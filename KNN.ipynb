{
 "cells": [
  {
   "cell_type": "code",
   "execution_count": 1,
   "metadata": {},
   "outputs": [],
   "source": [
    "#Importing relevant libraries\n",
    "\n",
    "import numpy as np\n",
    "from sklearn import datasets"
   ]
  },
  {
   "cell_type": "code",
   "execution_count": 2,
   "metadata": {},
   "outputs": [],
   "source": [
    "#Loading the iris datset\n",
    "\n",
    "iris = datasets.load_iris()\n",
    "X = iris.data  \n",
    "y = iris.target"
   ]
  },
  {
   "cell_type": "code",
   "execution_count": 3,
   "metadata": {},
   "outputs": [
    {
     "name": "stdout",
     "output_type": "stream",
     "text": [
      "X shape: (150, 4)\n",
      "y shape: (150,)\n"
     ]
    }
   ],
   "source": [
    "#Printing the dataset's shape \n",
    "\n",
    "print('X shape:',X.shape)\n",
    "print('y shape:',y.shape)"
   ]
  },
  {
   "cell_type": "code",
   "execution_count": 4,
   "metadata": {},
   "outputs": [
    {
     "name": "stdout",
     "output_type": "stream",
     "text": [
      "y shape: (150, 1)\n"
     ]
    }
   ],
   "source": [
    "#Reshaping y to avoid shape inconsistencies later on\n",
    "\n",
    "y=np.reshape(y,[150,1])\n",
    "print('y shape:',y.shape)"
   ]
  },
  {
   "cell_type": "code",
   "execution_count": 5,
   "metadata": {},
   "outputs": [],
   "source": [
    "#Combining the dataset so that the labels do not get messed up, shuffling\n",
    "\n",
    "Xy=np.concatenate((X,y),axis=1)\n",
    "np.random.shuffle(Xy)"
   ]
  },
  {
   "cell_type": "code",
   "execution_count": 6,
   "metadata": {},
   "outputs": [],
   "source": [
    "#Splitting to get the shuffled dataset back\n",
    "\n",
    "(X,y)=np.split(Xy,[4],axis=1)"
   ]
  },
  {
   "cell_type": "code",
   "execution_count": 7,
   "metadata": {},
   "outputs": [
    {
     "name": "stdout",
     "output_type": "stream",
     "text": [
      "First 5 examples in X:\n",
      " [[5.2 3.5 1.5 0.2]\n",
      " [6.9 3.1 5.1 2.3]\n",
      " [4.8 3.4 1.9 0.2]\n",
      " [5.1 3.8 1.6 0.2]\n",
      " [5.  3.4 1.5 0.2]]\n",
      "\n",
      "First 5 labels in y:\n",
      " [[0.]\n",
      " [2.]\n",
      " [0.]\n",
      " [0.]\n",
      " [0.]]\n"
     ]
    }
   ],
   "source": [
    "#Looking at the first few examples\n",
    "\n",
    "print('First 5 examples in X:\\n',X[0:5,:])\n",
    "print('\\nFirst 5 labels in y:\\n',y[0:5])"
   ]
  },
  {
   "cell_type": "code",
   "execution_count": 8,
   "metadata": {},
   "outputs": [],
   "source": [
    "#Choosing sizes of training and test sets\n",
    "\n",
    "num_train=120\n",
    "num_test=30"
   ]
  },
  {
   "cell_type": "code",
   "execution_count": 9,
   "metadata": {},
   "outputs": [],
   "source": [
    "#Splitting the dataset into training and test sets\n",
    "\n",
    "X_train=X[0:num_train,:]\n",
    "y_train=y[0:num_train,:]\n",
    "\n",
    "X_test=X[num_train:num_train+num_test,:]\n",
    "y_test=y[num_train:num_train+num_test,:]"
   ]
  },
  {
   "cell_type": "code",
   "execution_count": 10,
   "metadata": {},
   "outputs": [],
   "source": [
    "#Calculating the distance matrix between the training and test sets for X\n",
    "\n",
    "dists = np.reshape(np.sum(X_test**2, axis=1), [num_test,1]) + np.sum(X_train**2, axis=1) - 2 * np.matmul(X_test, X_train.T)\n",
    "dists = np.sqrt(dists)"
   ]
  },
  {
   "cell_type": "code",
   "execution_count": 11,
   "metadata": {},
   "outputs": [],
   "source": [
    "#Choosing a value for k\n",
    "\n",
    "k=5"
   ]
  },
  {
   "cell_type": "code",
   "execution_count": 12,
   "metadata": {},
   "outputs": [],
   "source": [
    "#Generating predictions on our test set\n",
    "\n",
    "y_pred = np.zeros((num_test,1))\n",
    "for i in range(num_test):\n",
    "    closest_y = []\n",
    "    closest_y = list(y_train[np.argsort(dists[i,:])[:k]]) \n",
    "    y_pred[i] = max(closest_y, key = closest_y.count)"
   ]
  },
  {
   "cell_type": "code",
   "execution_count": 13,
   "metadata": {},
   "outputs": [
    {
     "name": "stdout",
     "output_type": "stream",
     "text": [
      "Prediction:0 Actual value:0\n",
      "\n",
      "Prediction:0 Actual value:0\n",
      "\n",
      "Prediction:2 Actual value:2\n",
      "\n",
      "Prediction:1 Actual value:1\n",
      "\n",
      "Prediction:1 Actual value:2\n",
      "\n",
      "Prediction:0 Actual value:0\n",
      "\n",
      "Prediction:1 Actual value:1\n",
      "\n",
      "Prediction:2 Actual value:2\n",
      "\n",
      "Prediction:1 Actual value:1\n",
      "\n",
      "Prediction:2 Actual value:2\n",
      "\n"
     ]
    }
   ],
   "source": [
    "#Comparing some of our predictions to the actual values\n",
    "\n",
    "for i in range(10):\n",
    "    print('Prediction:%d Actual value:%d\\n' % (y_pred[i],y_test[i]))"
   ]
  },
  {
   "cell_type": "code",
   "execution_count": 14,
   "metadata": {},
   "outputs": [
    {
     "name": "stdout",
     "output_type": "stream",
     "text": [
      "Accuracy:96%\n"
     ]
    }
   ],
   "source": [
    "#Calculating the accuracy of our K Nearest Neighbour classifier\n",
    "\n",
    "num_correct = np.sum(y_pred == y_test)\n",
    "accuracy = float(num_correct) / num_test\n",
    "print ('Accuracy:%d%%' % (accuracy*100))"
   ]
  }
 ],
 "metadata": {
  "kernelspec": {
   "display_name": "Python 3",
   "language": "python",
   "name": "python3"
  },
  "language_info": {
   "codemirror_mode": {
    "name": "ipython",
    "version": 3
   },
   "file_extension": ".py",
   "mimetype": "text/x-python",
   "name": "python",
   "nbconvert_exporter": "python",
   "pygments_lexer": "ipython3",
   "version": "3.6.10"
  }
 },
 "nbformat": 4,
 "nbformat_minor": 4
}
